{
 "cells": [
  {
   "cell_type": "code",
   "execution_count": 26,
   "metadata": {},
   "outputs": [],
   "source": [
    "import numpy as np\n",
    "import pandas as pd\n",
    "from statsmodels.sandbox.regression import gmm"
   ]
  },
  {
   "cell_type": "code",
   "execution_count": 4,
   "metadata": {},
   "outputs": [
    {
     "name": "stdout",
     "output_type": "stream",
     "text": [
      "         qtr       r       c\n",
      "0 1960-01-01  0.0435  1585.6\n",
      "1 1960-04-01  0.0323  1605.1\n",
      "2 1960-07-01  0.0230  1598.5\n",
      "3 1960-10-01  0.0230  1600.3\n",
      "4 1961-01-01  0.0224  1600.2\n"
     ]
    }
   ],
   "source": [
    "\n",
    "# Load the data\n",
    "dta = pd.read_csv('/Users/veronica/Downloads/euler.csv', parse_dates=[0])\n",
    "print(dta.head())"
   ]
  },
  {
   "cell_type": "code",
   "execution_count": 5,
   "metadata": {},
   "outputs": [],
   "source": [
    "dta['c_growth'] = dta['c'] / dta['c'].shift(1)\n",
    "dta['c_growth_lag1'] = dta['c_growth'].shift(1)\n",
    "dta['r_lag1'] = dta['r'].shift(1)\n",
    "dta['r_lag2'] = dta['r'].shift(2)\n",
    "dta['r_forw1'] = dta['r'].shift(-1)\n",
    "dta['c_lag1'] = dta['c'].shift(1)\n",
    "dta['c_forw1'] = dta['c'].shift(-1)\n",
    "dta['const'] = 1\n",
    "\n",
    "dta_clean = dta.dropna()\n",
    "\n",
    "endog_df = dta_clean[['r_forw1', 'c_forw1', 'c']]\n",
    "exog_df = endog_df\n",
    "instrument_df = dta_clean[['r_lag1', 'r_lag2', 'c_growth', 'c_growth_lag1', 'const']]\n",
    "\n",
    "endog, exog, instrument = map(np.asarray, [endog_df, exog_df, instrument_df])\n"
   ]
  },
  {
   "cell_type": "code",
   "execution_count": 29,
   "metadata": {},
   "outputs": [
    {
     "name": "stdout",
     "output_type": "stream",
     "text": [
      "Optimization terminated successfully.\n",
      "         Current function value: 0.000355\n",
      "         Iterations: 5\n",
      "         Function evaluations: 14\n",
      "         Gradient evaluations: 14\n",
      "Optimization terminated successfully.\n",
      "         Current function value: 0.045800\n",
      "         Iterations: 5\n",
      "         Function evaluations: 10\n",
      "         Gradient evaluations: 10\n",
      "                            NonlinearIVGMM Results                            \n",
      "==============================================================================\n",
      "Dep. Variable:               Euler Eq   Hansen J:                        8.565\n",
      "Model:                 NonlinearIVGMM   Prob (Hansen J):                0.0138\n",
      "Method:                           GMM                                         \n",
      "Date:                Thu, 29 Feb 2024                                         \n",
      "Time:                        22:23:22                                         \n",
      "No. Observations:                 187                                         \n",
      "==============================================================================\n",
      "                 coef    std err          z      P>|z|      [0.025      0.975]\n",
      "------------------------------------------------------------------------------\n",
      "discount       0.9070      0.015     60.577      0.000       0.878       0.936\n",
      "CRRA          -5.0917      1.798     -2.832      0.005      -8.616      -1.567\n",
      "==============================================================================\n"
     ]
    }
   ],
   "source": [
    "def moment_consumption2(params, exog):\n",
    "    beta, gamma = params\n",
    "    r_forw1, c_forw1, c = exog.T\n",
    "    \n",
    "    # 2nd part of moment condition without instrument   \n",
    "    predicted = beta * (1. + r_forw1) * np.power(c_forw1 / c, -gamma)\n",
    "    return predicted\n",
    "\n",
    "endog2 = np.ones(exog.shape[0])\n",
    "mod2 = gmm.NonlinearIVGMM(endog2, exog, instrument, moment_consumption2, k_moms=4)\n",
    "w0inv = np.dot(instrument.T, instrument) / len(endog2)  \n",
    "res2_hac4_2s = mod2.fit([1,-1], maxiter=2, inv_weights=w0inv, weights_method='hac', wargs={'maxlag':4})\n",
    "\n",
    "print(res2_hac4_2s.summary(yname='Euler Eq', xname=['discount', 'CRRA']))\n"
   ]
  },
  {
   "cell_type": "code",
   "execution_count": 6,
   "metadata": {},
   "outputs": [
    {
     "name": "stdout",
     "output_type": "stream",
     "text": [
      "Estimated beta: 0.9070313482230734\n",
      "Estimated gamma: -5.091699165431186\n"
     ]
    }
   ],
   "source": [
    "beta_estimate = res2_hac4_2s.params[0]\n",
    "gamma_estimate = res2_hac4_2s.params[1]\n",
    "\n",
    "print(\"Estimated beta:\", beta_estimate)\n",
    "print(\"Estimated gamma:\", gamma_estimate)\n"
   ]
  },
  {
   "cell_type": "code",
   "execution_count": 17,
   "metadata": {},
   "outputs": [
    {
     "name": "stdout",
     "output_type": "stream",
     "text": [
      "Hansen-Sargan J-statistic: 8.564643757532675\n",
      "Prob(Hansen): 0.013810558388181932\n"
     ]
    }
   ],
   "source": [
    "hansen_test = res2_hac4_2s.jtest()\n",
    "J_statistic = hansen_test[0]\n",
    "critical_value = hansen_test[1]\n",
    "print(\"Hansen-Sargan J-statistic:\", J_statistic)\n",
    "print(\"Prob(Hansen):\", critical_value)"
   ]
  }
 ],
 "metadata": {
  "kernelspec": {
   "display_name": "python_env",
   "language": "python",
   "name": "python3"
  },
  "language_info": {
   "codemirror_mode": {
    "name": "ipython",
    "version": 3
   },
   "file_extension": ".py",
   "mimetype": "text/x-python",
   "name": "python",
   "nbconvert_exporter": "python",
   "pygments_lexer": "ipython3",
   "version": "3.8.17"
  }
 },
 "nbformat": 4,
 "nbformat_minor": 2
}
